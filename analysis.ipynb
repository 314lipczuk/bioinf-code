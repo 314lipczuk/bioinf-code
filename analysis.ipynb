{
 "cells": [
  {
   "cell_type": "code",
   "execution_count": 141,
   "id": "9d8be909",
   "metadata": {},
   "outputs": [],
   "source": [
    "import pandas as pd\n",
    "import numpy as np\n",
    "import re\n",
    "\n",
    "raw = pd.read_csv('./bioinf-edit1 - All.csv')"
   ]
  },
  {
   "cell_type": "code",
   "execution_count": 180,
   "id": "2236d31b",
   "metadata": {},
   "outputs": [],
   "source": [
    "# Mating pathway\n",
    "mating_pathway = {\n",
    "    \"Ste2\",\n",
    "    \"Ste3\",\n",
    "    \"Gαβγ\",\n",
    "    \"Ste5\",\n",
    "    \"Ste4\",\"Ste1\",\"Gpa1\",\n",
    "    \"Cdc24\",\n",
    "    \"Cdc42\",\n",
    "    \"Ste20\",\n",
    "    \"Ste50\",\n",
    "    \"Ste11\",\n",
    "    \"Ste7\",\n",
    "    \"Fus3\",\n",
    "    \"Ste12\",\n",
    "}\n",
    "\n",
    "# Filamentous growth pathway\n",
    "filamentous_growth_pathway = {\n",
    "    \"Msb2\",\n",
    "    \"Sho1\",\"Opy2\",\n",
    "    \"Cdc24\",\n",
    "    \"Cdc42\",\n",
    "    \"Ste20\",\n",
    "    \"Ste50\",\n",
    "    \"Ste11\",\n",
    "    \"Ste7\",\n",
    "    \"Kss1\",\n",
    "    \"Ste12\",\"Tec1\",\n",
    "}\n",
    "\n",
    "# High osmolarity pathway\n",
    "high_osmolarity_pathway = {\n",
    "    \"Msb2\",\"Hkr1\",\n",
    "    \"Sho1\",\"Opy2\",\n",
    "    \"Cdc24\",\n",
    "    \"Cdc42\",\n",
    "    \"Ste20\",\n",
    "    \"Ste50\",\n",
    "    \"Ste11\",\n",
    "    \"Pbs2\",\n",
    "    \"Hog1\",\n",
    "    \"Hot1\",\n",
    "}\n",
    "\n",
    "# Combine into a dictionary for easy access\n",
    "pathways_hm = {\n",
    "    \"Mating\": mating_pathway,\n",
    "    \"Filamentous Growth\": filamentous_growth_pathway,\n",
    "    \"High Osmolarity\": high_osmolarity_pathway\n",
    "}\n",
    "pathways = [x.lower() for x in mating_pathway.union(high_osmolarity_pathway).union(filamentous_growth_pathway)]"
   ]
  },
  {
   "cell_type": "code",
   "execution_count": 142,
   "id": "fdda15af",
   "metadata": {},
   "outputs": [],
   "source": [
    "def extract_gene_name(info_field):\n",
    "    if \"ANN=\" in info_field:\n",
    "        ann_entries = info_field.split(\"ANN=\")[1].split(\";\")[0]\n",
    "        annotations = ann_entries.split(\",\")\n",
    "        gene_info = set()\n",
    "        for ann in annotations:\n",
    "            ann_fields = ann.split(\"|\")\n",
    "            if len(ann_fields) > 4:\n",
    "                gene_name = ann_fields[3]\n",
    "                #gene_id = ann_fields[4]\n",
    "                gene_info.add(gene_name)\n",
    "        return gene_info\n",
    "    else:\n",
    "        return set() \n",
    "\n",
    "def augument_data(data):\n",
    "  data = data.replace('./.:.',  '')\n",
    "  sorting_table = {\"HIGH\":0, \"MODERATE\":1, \"LOW\":2, 'MODIFIER':3}\n",
    "  data['Severity'] = data['FORMAT'].apply(lambda x: sorting_table[x.split('|')[2]])\n",
    "  data['GENES_AFFECTED'] = data['FORMAT'].map(extract_gene_name)\n",
    "  #data['Gene'] = data['FORMAT'].apply(lambda x: x.split('|')[3])\n",
    "  return data\n",
    "\n",
    "data = augument_data(raw)\n",
    "\n",
    "strains = list(map(lambda x : x+'.bam', ['G28c1', 'D11c1', 'I38c2', 'M59c1', 'WT']))"
   ]
  },
  {
   "cell_type": "code",
   "execution_count": 170,
   "id": "750f7161",
   "metadata": {},
   "outputs": [],
   "source": [
    "def analysis(strain):\n",
    "  cur = strain\n",
    "  others = strains.copy()\n",
    "  others.remove(cur)\n",
    "  promising_picks = data[\n",
    "    (data[cur].apply(lambda x: x.startswith('1/1'))) &\n",
    "    (data[\"QUAL\"] > 100) &\n",
    "    (data[others].applymap(lambda x: x.startswith('1/1')).sum(axis=1)==0)].sort_values(by='Severity', ascending=True)\n",
    "  #return promising_picks['GENES_AFFECTED']\n",
    "  for ga in promising_picks['GENES_AFFECTED']:\n",
    "    cross = pathways.intersection(ga)\n",
    "    if len(cross) > 0:\n",
    "      print(f'FOUND cross between pathway and affected gene in {strain}\\n{cross}')\n"
   ]
  },
  {
   "cell_type": "code",
   "execution_count": 172,
   "id": "76fea559",
   "metadata": {},
   "outputs": [
    {
     "name": "stdout",
     "output_type": "stream",
     "text": [
      "388    {RGA1}\n",
      "352    {ESC1}\n",
      "Name: GENES_AFFECTED, dtype: object\n",
      "216    {STE12}\n",
      "393     {RRS1}\n",
      "124    {RAD55}\n",
      "Name: GENES_AFFECTED, dtype: object\n",
      "193    {KSS1}\n",
      "322    {IMD3}\n",
      "Name: GENES_AFFECTED, dtype: object\n",
      "370    {YNR021W}\n",
      "389       {RGA1}\n",
      "437      {Q0182}\n",
      "299       {ALY1}\n",
      "Name: GENES_AFFECTED, dtype: object\n",
      "Series([], Name: GENES_AFFECTED, dtype: object)\n"
     ]
    }
   ],
   "source": [
    "for strain in strains:\n",
    "  print(analysis(strain))"
   ]
  },
  {
   "cell_type": "code",
   "execution_count": 175,
   "id": "b3c53efe",
   "metadata": {},
   "outputs": [
    {
     "data": {
      "text/plain": [
       "{'Cdc24',\n",
       " 'Cdc42',\n",
       " 'Fus3',\n",
       " 'Gpa1',\n",
       " 'Gαβγ',\n",
       " 'Hkr1',\n",
       " 'Hog1',\n",
       " 'Hot1',\n",
       " 'Kss1',\n",
       " 'Msb2',\n",
       " 'Opy2',\n",
       " 'Pbs2',\n",
       " 'Sho1',\n",
       " 'Ste1',\n",
       " 'Ste11',\n",
       " 'Ste12',\n",
       " 'Ste2',\n",
       " 'Ste20',\n",
       " 'Ste3',\n",
       " 'Ste4',\n",
       " 'Ste5',\n",
       " 'Ste50',\n",
       " 'Ste7',\n",
       " 'Tec1'}"
      ]
     },
     "execution_count": 175,
     "metadata": {},
     "output_type": "execute_result"
    }
   ],
   "source": [
    "pathways"
   ]
  },
  {
   "cell_type": "code",
   "execution_count": 173,
   "id": "a785965f",
   "metadata": {},
   "outputs": [
    {
     "name": "stdout",
     "output_type": "stream",
     "text": [
      "D11c1.bam\n"
     ]
    },
    {
     "data": {
      "text/plain": [
       "216    {STE12}\n",
       "393     {RRS1}\n",
       "124    {RAD55}\n",
       "Name: GENES_AFFECTED, dtype: object"
      ]
     },
     "execution_count": 173,
     "metadata": {},
     "output_type": "execute_result"
    }
   ],
   "source": [
    "print(strains[1])\n",
    "analysis(strains[1])"
   ]
  },
  {
   "cell_type": "code",
   "execution_count": null,
   "id": "3dd8b9f9",
   "metadata": {},
   "outputs": [],
   "source": [
    "print(strains[2])\n",
    "analysis(strains[2])"
   ]
  },
  {
   "cell_type": "code",
   "execution_count": 135,
   "id": "8aea5a1b",
   "metadata": {},
   "outputs": [
    {
     "name": "stdout",
     "output_type": "stream",
     "text": [
      "M59c1.bam\n"
     ]
    },
    {
     "name": "stderr",
     "output_type": "stream",
     "text": [
      "/var/folders/92/3gzjc7p14mvb4pqkx2ryk0680000gn/T/ipykernel_37039/391431754.py:5: UserWarning: Boolean Series key will be reindexed to match DataFrame index.\n",
      "  return data[\n",
      "/var/folders/92/3gzjc7p14mvb4pqkx2ryk0680000gn/T/ipykernel_37039/391431754.py:5: UserWarning: Boolean Series key will be reindexed to match DataFrame index.\n",
      "  return data[\n"
     ]
    },
    {
     "data": {
      "text/html": [
       "<div>\n",
       "<style scoped>\n",
       "    .dataframe tbody tr th:only-of-type {\n",
       "        vertical-align: middle;\n",
       "    }\n",
       "\n",
       "    .dataframe tbody tr th {\n",
       "        vertical-align: top;\n",
       "    }\n",
       "\n",
       "    .dataframe thead th {\n",
       "        text-align: right;\n",
       "    }\n",
       "</style>\n",
       "<table border=\"1\" class=\"dataframe\">\n",
       "  <thead>\n",
       "    <tr style=\"text-align: right;\">\n",
       "      <th></th>\n",
       "      <th>#CHROM</th>\n",
       "      <th>POS</th>\n",
       "      <th>ID</th>\n",
       "      <th>REF</th>\n",
       "      <th>ALT</th>\n",
       "      <th>QUAL</th>\n",
       "      <th>FILTER</th>\n",
       "      <th>INFO</th>\n",
       "      <th>FORMAT</th>\n",
       "      <th>Unnamed: 9</th>\n",
       "      <th>D11c1.bam</th>\n",
       "      <th>G28c1.bam</th>\n",
       "      <th>I38c2.bam</th>\n",
       "      <th>M59c1.bam</th>\n",
       "      <th>WT.bam</th>\n",
       "      <th>Severity</th>\n",
       "    </tr>\n",
       "  </thead>\n",
       "  <tbody>\n",
       "    <tr>\n",
       "      <th>370</th>\n",
       "      <td>XIV</td>\n",
       "      <td>668562</td>\n",
       "      <td>.</td>\n",
       "      <td>C</td>\n",
       "      <td>A</td>\n",
       "      <td>221.999</td>\n",
       "      <td>.</td>\n",
       "      <td>VDB=0.43412;SGB=-0.69312;MQSB=1;MQ0F=0;AF1=1;A...</td>\n",
       "      <td>ANN=A|stop_gained|HIGH|YNR021W|YNR021W|transcr...</td>\n",
       "      <td>GT:PL</td>\n",
       "      <td></td>\n",
       "      <td></td>\n",
       "      <td></td>\n",
       "      <td>1/1:255,96,0</td>\n",
       "      <td></td>\n",
       "      <td>0</td>\n",
       "    </tr>\n",
       "    <tr>\n",
       "      <th>389</th>\n",
       "      <td>XV</td>\n",
       "      <td>563576</td>\n",
       "      <td>.</td>\n",
       "      <td>G</td>\n",
       "      <td>T</td>\n",
       "      <td>221.999</td>\n",
       "      <td>.</td>\n",
       "      <td>VDB=0.552091;SGB=-0.693141;MQSB=1;MQ0F=0;AF1=1...</td>\n",
       "      <td>ANN=T|stop_gained|HIGH|RGA1|YOR127W|transcript...</td>\n",
       "      <td>GT:PL</td>\n",
       "      <td></td>\n",
       "      <td></td>\n",
       "      <td></td>\n",
       "      <td>1/1:255,111,0</td>\n",
       "      <td></td>\n",
       "      <td>0</td>\n",
       "    </tr>\n",
       "    <tr>\n",
       "      <th>437</th>\n",
       "      <td>Mito</td>\n",
       "      <td>65922</td>\n",
       "      <td>.</td>\n",
       "      <td>GGGGGC</td>\n",
       "      <td>G</td>\n",
       "      <td>214.458</td>\n",
       "      <td>.</td>\n",
       "      <td>INDEL;IDV=1;IMF=0.00571429;VDB=1.50203e-08;SGB...</td>\n",
       "      <td>ANN=G|frameshift_variant|HIGH|Q0182|Q0182|tran...</td>\n",
       "      <td>GT:PL</td>\n",
       "      <td></td>\n",
       "      <td></td>\n",
       "      <td></td>\n",
       "      <td>1/1:255,255,0</td>\n",
       "      <td></td>\n",
       "      <td>0</td>\n",
       "    </tr>\n",
       "    <tr>\n",
       "      <th>299</th>\n",
       "      <td>XI</td>\n",
       "      <td>479905</td>\n",
       "      <td>.</td>\n",
       "      <td>T</td>\n",
       "      <td>A</td>\n",
       "      <td>221.999</td>\n",
       "      <td>.</td>\n",
       "      <td>VDB=0.00732327;SGB=-0.691153;MQSB=1;MQ0F=0;AF1...</td>\n",
       "      <td>ANN=A|missense_variant|MODERATE|ALY1|YKR021W|t...</td>\n",
       "      <td>GT:PL</td>\n",
       "      <td></td>\n",
       "      <td></td>\n",
       "      <td></td>\n",
       "      <td>1/1:255,54,0</td>\n",
       "      <td></td>\n",
       "      <td>1</td>\n",
       "    </tr>\n",
       "  </tbody>\n",
       "</table>\n",
       "</div>"
      ],
      "text/plain": [
       "    #CHROM     POS ID     REF ALT     QUAL FILTER  \\\n",
       "370    XIV  668562  .       C   A  221.999      .   \n",
       "389     XV  563576  .       G   T  221.999      .   \n",
       "437   Mito   65922  .  GGGGGC   G  214.458      .   \n",
       "299     XI  479905  .       T   A  221.999      .   \n",
       "\n",
       "                                                  INFO  \\\n",
       "370  VDB=0.43412;SGB=-0.69312;MQSB=1;MQ0F=0;AF1=1;A...   \n",
       "389  VDB=0.552091;SGB=-0.693141;MQSB=1;MQ0F=0;AF1=1...   \n",
       "437  INDEL;IDV=1;IMF=0.00571429;VDB=1.50203e-08;SGB...   \n",
       "299  VDB=0.00732327;SGB=-0.691153;MQSB=1;MQ0F=0;AF1...   \n",
       "\n",
       "                                                FORMAT Unnamed: 9 D11c1.bam  \\\n",
       "370  ANN=A|stop_gained|HIGH|YNR021W|YNR021W|transcr...      GT:PL             \n",
       "389  ANN=T|stop_gained|HIGH|RGA1|YOR127W|transcript...      GT:PL             \n",
       "437  ANN=G|frameshift_variant|HIGH|Q0182|Q0182|tran...      GT:PL             \n",
       "299  ANN=A|missense_variant|MODERATE|ALY1|YKR021W|t...      GT:PL             \n",
       "\n",
       "    G28c1.bam I38c2.bam      M59c1.bam WT.bam  Severity  \n",
       "370                       1/1:255,96,0                0  \n",
       "389                      1/1:255,111,0                0  \n",
       "437                      1/1:255,255,0                0  \n",
       "299                       1/1:255,54,0                1  "
      ]
     },
     "execution_count": 135,
     "metadata": {},
     "output_type": "execute_result"
    }
   ],
   "source": [
    "\n",
    "print(strains[3])\n",
    "analysis(strains[3])"
   ]
  },
  {
   "cell_type": "code",
   "execution_count": 132,
   "id": "c3b2870c",
   "metadata": {},
   "outputs": [
    {
     "name": "stderr",
     "output_type": "stream",
     "text": [
      "/var/folders/92/3gzjc7p14mvb4pqkx2ryk0680000gn/T/ipykernel_37039/391431754.py:5: UserWarning: Boolean Series key will be reindexed to match DataFrame index.\n",
      "  return data[\n",
      "/var/folders/92/3gzjc7p14mvb4pqkx2ryk0680000gn/T/ipykernel_37039/391431754.py:5: UserWarning: Boolean Series key will be reindexed to match DataFrame index.\n",
      "  return data[\n"
     ]
    },
    {
     "data": {
      "text/html": [
       "<div>\n",
       "<style scoped>\n",
       "    .dataframe tbody tr th:only-of-type {\n",
       "        vertical-align: middle;\n",
       "    }\n",
       "\n",
       "    .dataframe tbody tr th {\n",
       "        vertical-align: top;\n",
       "    }\n",
       "\n",
       "    .dataframe thead th {\n",
       "        text-align: right;\n",
       "    }\n",
       "</style>\n",
       "<table border=\"1\" class=\"dataframe\">\n",
       "  <thead>\n",
       "    <tr style=\"text-align: right;\">\n",
       "      <th></th>\n",
       "      <th>#CHROM</th>\n",
       "      <th>POS</th>\n",
       "      <th>ID</th>\n",
       "      <th>REF</th>\n",
       "      <th>ALT</th>\n",
       "      <th>QUAL</th>\n",
       "      <th>FILTER</th>\n",
       "      <th>INFO</th>\n",
       "      <th>FORMAT</th>\n",
       "      <th>Unnamed: 9</th>\n",
       "      <th>D11c1.bam</th>\n",
       "      <th>G28c1.bam</th>\n",
       "      <th>I38c2.bam</th>\n",
       "      <th>M59c1.bam</th>\n",
       "      <th>WT.bam</th>\n",
       "      <th>Severity</th>\n",
       "    </tr>\n",
       "  </thead>\n",
       "  <tbody>\n",
       "    <tr>\n",
       "      <th>193</th>\n",
       "      <td>VII</td>\n",
       "      <td>576333</td>\n",
       "      <td>.</td>\n",
       "      <td>C</td>\n",
       "      <td>A</td>\n",
       "      <td>221.999</td>\n",
       "      <td>.</td>\n",
       "      <td>VDB=0.162935;SGB=-0.693127;MQSB=1;MQ0F=0;AF1=1...</td>\n",
       "      <td>ANN=A|stop_gained|HIGH|KSS1|YGR040W|transcript...</td>\n",
       "      <td>GT:PL</td>\n",
       "      <td></td>\n",
       "      <td></td>\n",
       "      <td>1/1:255,99,0</td>\n",
       "      <td></td>\n",
       "      <td></td>\n",
       "      <td>0</td>\n",
       "    </tr>\n",
       "    <tr>\n",
       "      <th>322</th>\n",
       "      <td>XII</td>\n",
       "      <td>1003220</td>\n",
       "      <td>.</td>\n",
       "      <td>G</td>\n",
       "      <td>C</td>\n",
       "      <td>225.009</td>\n",
       "      <td>.</td>\n",
       "      <td>VDB=0.502815;SGB=-0.693143;MQSB=0.976313;MQ0F=...</td>\n",
       "      <td>ANN=C|missense_variant|MODERATE|IMD3|YLR432W|t...</td>\n",
       "      <td>GT:PL</td>\n",
       "      <td></td>\n",
       "      <td></td>\n",
       "      <td>1/1:255,114,0</td>\n",
       "      <td></td>\n",
       "      <td>0/1:255,0,255</td>\n",
       "      <td>1</td>\n",
       "    </tr>\n",
       "  </tbody>\n",
       "</table>\n",
       "</div>"
      ],
      "text/plain": [
       "    #CHROM      POS ID REF ALT     QUAL FILTER  \\\n",
       "193    VII   576333  .   C   A  221.999      .   \n",
       "322    XII  1003220  .   G   C  225.009      .   \n",
       "\n",
       "                                                  INFO  \\\n",
       "193  VDB=0.162935;SGB=-0.693127;MQSB=1;MQ0F=0;AF1=1...   \n",
       "322  VDB=0.502815;SGB=-0.693143;MQSB=0.976313;MQ0F=...   \n",
       "\n",
       "                                                FORMAT Unnamed: 9 D11c1.bam  \\\n",
       "193  ANN=A|stop_gained|HIGH|KSS1|YGR040W|transcript...      GT:PL             \n",
       "322  ANN=C|missense_variant|MODERATE|IMD3|YLR432W|t...      GT:PL             \n",
       "\n",
       "    G28c1.bam      I38c2.bam M59c1.bam         WT.bam  Severity  \n",
       "193             1/1:255,99,0                                  0  \n",
       "322            1/1:255,114,0            0/1:255,0,255         1  "
      ]
     },
     "execution_count": 132,
     "metadata": {},
     "output_type": "execute_result"
    }
   ],
   "source": [
    "x = analysis(strains[2])\n",
    "x"
   ]
  },
  {
   "cell_type": "code",
   "execution_count": null,
   "id": "4f30d675",
   "metadata": {},
   "outputs": [],
   "source": [
    "def parse_line(line):\n",
    "  return line.search('')"
   ]
  },
  {
   "cell_type": "code",
   "execution_count": 19,
   "id": "50979bdc",
   "metadata": {},
   "outputs": [
    {
     "ename": "TypeError",
     "evalue": "expected string or bytes-like object, got 'Series'",
     "output_type": "error",
     "traceback": [
      "\u001b[0;31m---------------------------------------------------------------------------\u001b[0m",
      "\u001b[0;31mTypeError\u001b[0m                                 Traceback (most recent call last)",
      "Cell \u001b[0;32mIn[19], line 1\u001b[0m\n\u001b[0;32m----> 1\u001b[0m m \u001b[38;5;241m=\u001b[39m re\u001b[38;5;241m.\u001b[39msearch(\u001b[38;5;124m'\u001b[39m\u001b[38;5;124mLOF=\u001b[39m\u001b[38;5;124m\\\u001b[39m\u001b[38;5;124m((.*)\u001b[39m\u001b[38;5;124m\\\u001b[39m\u001b[38;5;124m)\u001b[39m\u001b[38;5;124m'\u001b[39m, x)\n\u001b[1;32m      2\u001b[0m m\u001b[38;5;241m.\u001b[39mgroups()[\u001b[38;5;241m0\u001b[39m]\u001b[38;5;241m.\u001b[39msplit(\u001b[38;5;124m'\u001b[39m\u001b[38;5;124m|\u001b[39m\u001b[38;5;124m'\u001b[39m)\n",
      "File \u001b[0;32m~/anaconda3/lib/python3.11/re/__init__.py:176\u001b[0m, in \u001b[0;36msearch\u001b[0;34m(pattern, string, flags)\u001b[0m\n\u001b[1;32m    173\u001b[0m \u001b[38;5;28;01mdef\u001b[39;00m \u001b[38;5;21msearch\u001b[39m(pattern, string, flags\u001b[38;5;241m=\u001b[39m\u001b[38;5;241m0\u001b[39m):\n\u001b[1;32m    174\u001b[0m \u001b[38;5;250m    \u001b[39m\u001b[38;5;124;03m\"\"\"Scan through string looking for a match to the pattern, returning\u001b[39;00m\n\u001b[1;32m    175\u001b[0m \u001b[38;5;124;03m    a Match object, or None if no match was found.\"\"\"\u001b[39;00m\n\u001b[0;32m--> 176\u001b[0m     \u001b[38;5;28;01mreturn\u001b[39;00m _compile(pattern, flags)\u001b[38;5;241m.\u001b[39msearch(string)\n",
      "\u001b[0;31mTypeError\u001b[0m: expected string or bytes-like object, got 'Series'"
     ]
    }
   ],
   "source": [
    "m = re.search('LOF=\\((.*)\\)', x)\n",
    "m.groups()[0].split('|')"
   ]
  },
  {
   "cell_type": "code",
   "execution_count": 17,
   "id": "8a1689b5",
   "metadata": {},
   "outputs": [],
   "source": [
    "x = data[\"FORMAT\"]\n",
    "for xx in x: print(xx) if re.match('LOF=',xx) else None\n"
   ]
  },
  {
   "cell_type": "code",
   "execution_count": 27,
   "id": "4a990f01",
   "metadata": {},
   "outputs": [],
   "source": [
    "import json\n",
    "data['FORMAT'][1:100].to_json('test.json')\n"
   ]
  },
  {
   "cell_type": "code",
   "execution_count": 158,
   "id": "6eeb7d0f",
   "metadata": {},
   "outputs": [],
   "source": [
    "yy= data['FORMAT'][0]\n",
    "def getLOFs(x):\n",
    "  m = re.search('LOF=\\(', x)\n",
    "  if m != None:\n",
    "    return True\n",
    "  return False"
   ]
  },
  {
   "cell_type": "code",
   "execution_count": 164,
   "id": "ddb91f67",
   "metadata": {},
   "outputs": [
    {
     "ename": "AttributeError",
     "evalue": "'Series' object has no attribute 'applymap'",
     "output_type": "error",
     "traceback": [
      "\u001b[0;31m---------------------------------------------------------------------------\u001b[0m",
      "\u001b[0;31mAttributeError\u001b[0m                            Traceback (most recent call last)",
      "\u001b[0;32m/var/folders/92/3gzjc7p14mvb4pqkx2ryk0680000gn/T/ipykernel_38919/3336314849.py\u001b[0m in \u001b[0;36m?\u001b[0;34m()\u001b[0m\n\u001b[1;32m      1\u001b[0m \u001b[0mloc_matches\u001b[0m \u001b[0;34m=\u001b[0m \u001b[0mdata\u001b[0m\u001b[0;34m[\u001b[0m\u001b[0mdata\u001b[0m\u001b[0;34m[\u001b[0m\u001b[0;34m'FORMAT'\u001b[0m\u001b[0;34m]\u001b[0m\u001b[0;34m.\u001b[0m\u001b[0mapply\u001b[0m\u001b[0;34m(\u001b[0m\u001b[0mgetLOFs\u001b[0m\u001b[0;34m)\u001b[0m\u001b[0;34m]\u001b[0m\u001b[0;34m[\u001b[0m\u001b[0;34m'FORMAT'\u001b[0m\u001b[0;34m]\u001b[0m\u001b[0;34m\u001b[0m\u001b[0;34m\u001b[0m\u001b[0m\n\u001b[0;32m----> 2\u001b[0;31m \u001b[0mloc_matches\u001b[0m\u001b[0;34m.\u001b[0m\u001b[0mapplymap\u001b[0m\u001b[0;34m(\u001b[0m\u001b[0;32mlambda\u001b[0m \u001b[0mx\u001b[0m\u001b[0;34m:\u001b[0m \u001b[0mx\u001b[0m\u001b[0;34m[\u001b[0m\u001b[0mx\u001b[0m\u001b[0;34m.\u001b[0m\u001b[0mfind\u001b[0m\u001b[0;34m(\u001b[0m\u001b[0;34m'LOF='\u001b[0m\u001b[0;34m)\u001b[0m\u001b[0;34m,\u001b[0m\u001b[0;34m]\u001b[0m\u001b[0;34m)\u001b[0m\u001b[0;34m\u001b[0m\u001b[0;34m\u001b[0m\u001b[0m\n\u001b[0m",
      "\u001b[0;32m~/anaconda3/lib/python3.11/site-packages/pandas/core/generic.py\u001b[0m in \u001b[0;36m?\u001b[0;34m(self, name)\u001b[0m\n\u001b[1;32m   5985\u001b[0m             \u001b[0;32mand\u001b[0m \u001b[0mname\u001b[0m \u001b[0;32mnot\u001b[0m \u001b[0;32min\u001b[0m \u001b[0mself\u001b[0m\u001b[0;34m.\u001b[0m\u001b[0m_accessors\u001b[0m\u001b[0;34m\u001b[0m\u001b[0;34m\u001b[0m\u001b[0m\n\u001b[1;32m   5986\u001b[0m             \u001b[0;32mand\u001b[0m \u001b[0mself\u001b[0m\u001b[0;34m.\u001b[0m\u001b[0m_info_axis\u001b[0m\u001b[0;34m.\u001b[0m\u001b[0m_can_hold_identifiers_and_holds_name\u001b[0m\u001b[0;34m(\u001b[0m\u001b[0mname\u001b[0m\u001b[0;34m)\u001b[0m\u001b[0;34m\u001b[0m\u001b[0;34m\u001b[0m\u001b[0m\n\u001b[1;32m   5987\u001b[0m         ):\n\u001b[1;32m   5988\u001b[0m             \u001b[0;32mreturn\u001b[0m \u001b[0mself\u001b[0m\u001b[0;34m[\u001b[0m\u001b[0mname\u001b[0m\u001b[0;34m]\u001b[0m\u001b[0;34m\u001b[0m\u001b[0;34m\u001b[0m\u001b[0m\n\u001b[0;32m-> 5989\u001b[0;31m         \u001b[0;32mreturn\u001b[0m \u001b[0mobject\u001b[0m\u001b[0;34m.\u001b[0m\u001b[0m__getattribute__\u001b[0m\u001b[0;34m(\u001b[0m\u001b[0mself\u001b[0m\u001b[0;34m,\u001b[0m \u001b[0mname\u001b[0m\u001b[0;34m)\u001b[0m\u001b[0;34m\u001b[0m\u001b[0;34m\u001b[0m\u001b[0m\n\u001b[0m",
      "\u001b[0;31mAttributeError\u001b[0m: 'Series' object has no attribute 'applymap'"
     ]
    }
   ],
   "source": [
    "loc_matches = data[data['FORMAT'].apply(getLOFs)]['FORMAT']\n",
    "loc_matches.applymap(lambda x: x[x.find('LOF='),])"
   ]
  },
  {
   "cell_type": "code",
   "execution_count": 28,
   "id": "9a2e1ee5",
   "metadata": {},
   "outputs": [
    {
     "data": {
      "text/plain": [
       "'ANN=C|frameshift_variant|HIGH|YAL069W|YAL069W|transcript|YAL069W_mRNA|protein_coding|1/1|c.120_126delTCTCAAA|p.Lys42fs|120/315|120/315|40/104||INFO_REALIGN_3_PRIME;LOF=(YAL069W|YAL069W|1|1.00)'"
      ]
     },
     "execution_count": 28,
     "metadata": {},
     "output_type": "execute_result"
    }
   ],
   "source": [
    "data['FORMAT'][1]"
   ]
  }
 ],
 "metadata": {
  "kernelspec": {
   "display_name": "Python 3 (ipykernel)",
   "language": "python",
   "name": "python3"
  },
  "language_info": {
   "codemirror_mode": {
    "name": "ipython",
    "version": 3
   },
   "file_extension": ".py",
   "mimetype": "text/x-python",
   "name": "python",
   "nbconvert_exporter": "python",
   "pygments_lexer": "ipython3",
   "version": "3.11.5"
  }
 },
 "nbformat": 4,
 "nbformat_minor": 5
}
