{
 "cells": [
  {
   "cell_type": "code",
   "execution_count": 141,
   "id": "9d8be909",
   "metadata": {},
   "outputs": [],
   "source": [
    "import pandas as pd\n",
    "import numpy as np\n",
    "import re\n",
    "\n",
    "raw = pd.read_csv('./bioinf-edit1 - All.csv')"
   ]
  },
  {
   "cell_type": "code",
   "execution_count": 185,
   "id": "2236d31b",
   "metadata": {},
   "outputs": [],
   "source": [
    "# Mating pathway\n",
    "mating_pathway = {\n",
    "    \"Ste2\",\n",
    "    \"Ste3\",\n",
    "    \"Gαβγ\",\n",
    "    \"Ste5\",\n",
    "    \"Ste4\",\"Ste1\",\"Gpa1\",\n",
    "    \"Cdc24\",\n",
    "    \"Cdc42\",\n",
    "    \"Ste20\",\n",
    "    \"Ste50\",\n",
    "    \"Ste11\",\n",
    "    \"Ste7\",\n",
    "    \"Fus3\",\n",
    "    \"Ste12\",\n",
    "}\n",
    "\n",
    "# Filamentous growth pathway\n",
    "filamentous_growth_pathway = {\n",
    "    \"Msb2\",\n",
    "    \"Sho1\",\"Opy2\",\n",
    "    \"Cdc24\",\n",
    "    \"Cdc42\",\n",
    "    \"Ste20\",\n",
    "    \"Ste50\",\n",
    "    \"Ste11\",\n",
    "    \"Ste7\",\n",
    "    \"Kss1\",\n",
    "    \"Ste12\",\"Tec1\",\n",
    "}\n",
    "\n",
    "# High osmolarity pathway\n",
    "high_osmolarity_pathway = {\n",
    "    \"Msb2\",\"Hkr1\",\n",
    "    \"Sho1\",\"Opy2\",\n",
    "    \"Cdc24\",\n",
    "    \"Cdc42\",\n",
    "    \"Ste20\",\n",
    "    \"Ste50\",\n",
    "    \"Ste11\",\n",
    "    \"Pbs2\",\n",
    "    \"Hog1\",\n",
    "    \"Hot1\",\n",
    "}\n",
    "\n",
    "# Combine into a dictionary for easy access\n",
    "pathways_hm = {\n",
    "    \"Mating\": mating_pathway,\n",
    "    \"Filamentous Growth\": filamentous_growth_pathway,\n",
    "    \"High Osmolarity\": high_osmolarity_pathway\n",
    "}\n",
    "pathways = set([x.lower() for x in mating_pathway.union(high_osmolarity_pathway).union(filamentous_growth_pathway)])"
   ]
  },
  {
   "cell_type": "code",
   "execution_count": 186,
   "id": "fdda15af",
   "metadata": {},
   "outputs": [],
   "source": [
    "def extract_gene_name(info_field):\n",
    "    if \"ANN=\" in info_field:\n",
    "        ann_entries = info_field.split(\"ANN=\")[1].split(\";\")[0]\n",
    "        annotations = ann_entries.split(\",\")\n",
    "        gene_info = set()\n",
    "        for ann in annotations:\n",
    "            ann_fields = ann.split(\"|\")\n",
    "            if len(ann_fields) > 4:\n",
    "                gene_name = ann_fields[3]\n",
    "                #gene_id = ann_fields[4]\n",
    "                gene_info.add(gene_name.lower())\n",
    "        return gene_info\n",
    "    else:\n",
    "        return set() \n",
    "\n",
    "def augument_data(data):\n",
    "  data = data.replace('./.:.',  '')\n",
    "  sorting_table = {\"HIGH\":0, \"MODERATE\":1, \"LOW\":2, 'MODIFIER':3}\n",
    "  data['Severity'] = data['FORMAT'].apply(lambda x: sorting_table[x.split('|')[2]])\n",
    "  data['GENES_AFFECTED'] = data['FORMAT'].map(extract_gene_name)\n",
    "  #data['Gene'] = data['FORMAT'].apply(lambda x: x.split('|')[3])\n",
    "  return data\n",
    "\n",
    "data = augument_data(raw)\n",
    "\n",
    "strains = list(map(lambda x : x+'.bam', ['G28c1', 'D11c1', 'I38c2', 'M59c1', 'WT']))"
   ]
  },
  {
   "cell_type": "code",
   "execution_count": 189,
   "id": "750f7161",
   "metadata": {},
   "outputs": [],
   "source": [
    "def analysis(strain):\n",
    "  cur = strain\n",
    "  others = strains.copy()\n",
    "  others.remove(cur)\n",
    "  promising_picks = data[\n",
    "    (data[cur].apply(lambda x: x.startswith('1/1'))) &\n",
    "    (data[\"QUAL\"] > 100) &\n",
    "    (data[others].applymap(lambda x: x.startswith('1/1')).sum(axis=1)==0)].sort_values(by='Severity', ascending=True)\n",
    "  #return promising_picks['GENES_AFFECTED']\n",
    "  #for ga in promising_picks['GENES_AFFECTED']:\n",
    "  cross = pathways.intersection(promising_picks['GENES_AFFECTED'])\n",
    "  if len(cross) > 0:\n",
    "    print(f'FOUND cross between pathway and affected gene in {strain}\\n{cross}')\n",
    "  else:\n",
    "    print(f'FOUND nothing in {strain}')\n"
   ]
  },
  {
   "cell_type": "code",
   "execution_count": 190,
   "id": "76fea559",
   "metadata": {},
   "outputs": [
    {
     "name": "stdout",
     "output_type": "stream",
     "text": [
      "FOUND nothing in G28c1.bam\n",
      "FOUND nothing in G28c1.bam\n",
      "None\n",
      "FOUND cross between pathway and affected gene in D11c1.bam\n",
      "{'ste12'}\n",
      "FOUND nothing in D11c1.bam\n",
      "FOUND nothing in D11c1.bam\n",
      "None\n",
      "FOUND cross between pathway and affected gene in I38c2.bam\n",
      "{'kss1'}\n",
      "FOUND nothing in I38c2.bam\n",
      "None\n",
      "FOUND nothing in M59c1.bam\n",
      "FOUND nothing in M59c1.bam\n",
      "FOUND nothing in M59c1.bam\n",
      "FOUND nothing in M59c1.bam\n",
      "None\n",
      "None\n"
     ]
    }
   ],
   "source": [
    "for strain in strains:\n",
    "  print(analysis(strain))"
   ]
  },
  {
   "cell_type": "code",
   "execution_count": 175,
   "id": "b3c53efe",
   "metadata": {},
   "outputs": [
    {
     "data": {
      "text/plain": [
       "{'Cdc24',\n",
       " 'Cdc42',\n",
       " 'Fus3',\n",
       " 'Gpa1',\n",
       " 'Gαβγ',\n",
       " 'Hkr1',\n",
       " 'Hog1',\n",
       " 'Hot1',\n",
       " 'Kss1',\n",
       " 'Msb2',\n",
       " 'Opy2',\n",
       " 'Pbs2',\n",
       " 'Sho1',\n",
       " 'Ste1',\n",
       " 'Ste11',\n",
       " 'Ste12',\n",
       " 'Ste2',\n",
       " 'Ste20',\n",
       " 'Ste3',\n",
       " 'Ste4',\n",
       " 'Ste5',\n",
       " 'Ste50',\n",
       " 'Ste7',\n",
       " 'Tec1'}"
      ]
     },
     "execution_count": 175,
     "metadata": {},
     "output_type": "execute_result"
    }
   ],
   "source": [
    "pathways"
   ]
  },
  {
   "cell_type": "code",
   "execution_count": 173,
   "id": "a785965f",
   "metadata": {},
   "outputs": [
    {
     "name": "stdout",
     "output_type": "stream",
     "text": [
      "D11c1.bam\n"
     ]
    },
    {
     "data": {
      "text/plain": [
       "216    {STE12}\n",
       "393     {RRS1}\n",
       "124    {RAD55}\n",
       "Name: GENES_AFFECTED, dtype: object"
      ]
     },
     "execution_count": 173,
     "metadata": {},
     "output_type": "execute_result"
    }
   ],
   "source": [
    "print(strains[1])\n",
    "analysis(strains[1])"
   ]
  }
 ],
 "metadata": {
  "kernelspec": {
   "display_name": "Python 3 (ipykernel)",
   "language": "python",
   "name": "python3"
  },
  "language_info": {
   "codemirror_mode": {
    "name": "ipython",
    "version": 3
   },
   "file_extension": ".py",
   "mimetype": "text/x-python",
   "name": "python",
   "nbconvert_exporter": "python",
   "pygments_lexer": "ipython3",
   "version": "3.11.5"
  }
 },
 "nbformat": 4,
 "nbformat_minor": 5
}
